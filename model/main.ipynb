{
 "cells": [
  {
   "cell_type": "code",
   "execution_count": 2,
   "metadata": {},
   "outputs": [],
   "source": [
    "!pip install -q google-generativeai"
   ]
  },
  {
   "cell_type": "code",
   "execution_count": 3,
   "metadata": {},
   "outputs": [],
   "source": [
    "import pprint\n",
    "import google.generativeai as palm\n",
    "from config import PALM_API_KEY"
   ]
  },
  {
   "cell_type": "code",
   "execution_count": 4,
   "metadata": {},
   "outputs": [],
   "source": [
    "palm.configure(api_key = PALM_API_KEY)"
   ]
  },
  {
   "cell_type": "code",
   "execution_count": 9,
   "metadata": {},
   "outputs": [
    {
     "name": "stdout",
     "output_type": "stream",
     "text": [
      "models/text-bison-001\n"
     ]
    }
   ],
   "source": [
    "models = [m for m in palm.list_models() if 'generateText' in m.supported_generation_methods]\n",
    "model = models[0].name\n",
    "print(model)"
   ]
  },
  {
   "cell_type": "code",
   "execution_count": 10,
   "metadata": {},
   "outputs": [
    {
     "name": "stdout",
     "output_type": "stream",
     "text": [
      "Photosynthesis is the process by which plants use sunlight, water, and carbon dioxide to create glucose, or food, and oxygen. The chemical equation for photosynthesis is:\n",
      "\n",
      "6CO2 + 6H2O + light energy → C6H12O6 + 6O2\n",
      "\n",
      "The reactants of photosynthesis are carbon dioxide, water, and light energy. The products of photosynthesis are glucose, or food, and oxygen.\n",
      "\n",
      "The first step of photosynthesis is the absorption of light energy by chlorophyll molecules in the chloroplasts of plant cells. This light energy is used to excite electrons in the chlorophyll molecules. The excited electrons are then transferred to a series of electron carriers, which pass them along a chain. This process is called the electron transport chain.\n",
      "\n",
      "As the electrons move through the electron transport chain, they lose energy. This energy is used to pump protons (H+) across a membrane in the chloroplast. The protons then create a gradient of electrical potential across the membrane. This gradient is used to drive the synthesis of ATP, or energy-rich molecules.\n",
      "\n",
      "The ATP and the protons are then used to drive the conversion of carbon dioxide and water into glucose. This process is called the Calvin cycle. The glucose is then used by the plant as food.\n",
      "\n",
      "The oxygen that is produced as a byproduct of photosynthesis is released into the atmosphere.\n",
      "\n",
      "Photosynthesis is a vital process for life on Earth. It is the process by which plants produce the food that they need to survive. It is also the process by which plants produce the oxygen that we breathe.\n"
     ]
    }
   ],
   "source": [
    "prompt = input(\"Enter you prompt : \")\n",
    "\n",
    "final_prompt = prompt + \"which will refers to 11th class biology book and I can write that answer in exams.\"\n",
    "\n",
    "completion = palm.generate_text(\n",
    "    model=model,\n",
    "    prompt=final_prompt,\n",
    "    temperature=0,\n",
    "    # The maximum length of the response\n",
    "    max_output_tokens=800,\n",
    ")\n",
    "\n",
    "print(completion.result)"
   ]
  },
  {
   "cell_type": "code",
   "execution_count": 11,
   "metadata": {},
   "outputs": [
    {
     "name": "stdout",
     "output_type": "stream",
     "text": [
      "Photosynthesis is the process by which plants use sunlight, water, and carbon dioxide to create food (glucose) and oxygen. The chemical equation for photosynthesis is:\n",
      "\n",
      "6CO2 + 6H2O + light energy → C6H12O6 + 6O2\n",
      "\n",
      "The reactants are carbon dioxide, water, and light energy. The products are glucose, water, and oxygen.\n",
      "\n",
      "The first step in photosynthesis is the absorption of light energy by chlorophyll, a green pigment found in chloroplasts. The light energy is used to split water molecules into hydrogen and oxygen atoms. The hydrogen atoms are then used to reduce carbon dioxide molecules into glucose molecules. The oxygen atoms are released as a waste product.\n",
      "\n",
      "Photosynthesis is an essential process for life on Earth. It is the primary way that plants produce food, and it is the source of the oxygen that we breathe.\n"
     ]
    }
   ],
   "source": [
    "prompt = input(\"Enter you prompt : \")\n",
    "\n",
    "completion = palm.generate_text(\n",
    "    model=model,\n",
    "    prompt=prompt,\n",
    "    temperature=0,\n",
    "    # The maximum length of the response\n",
    "    max_output_tokens=800,\n",
    ")\n",
    "\n",
    "print(completion.result)"
   ]
  },
  {
   "cell_type": "code",
   "execution_count": null,
   "metadata": {},
   "outputs": [],
   "source": []
  }
 ],
 "metadata": {
  "kernelspec": {
   "display_name": "Python 3",
   "language": "python",
   "name": "python3"
  },
  "language_info": {
   "codemirror_mode": {
    "name": "ipython",
    "version": 3
   },
   "file_extension": ".py",
   "mimetype": "text/x-python",
   "name": "python",
   "nbconvert_exporter": "python",
   "pygments_lexer": "ipython3",
   "version": "3.11.5"
  }
 },
 "nbformat": 4,
 "nbformat_minor": 2
}
